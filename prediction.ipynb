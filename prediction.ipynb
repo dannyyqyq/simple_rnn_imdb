{
 "cells": [
  {
   "cell_type": "code",
   "execution_count": 12,
   "metadata": {},
   "outputs": [],
   "source": [
    "import numpy as np\n",
    "import tensorflow as tf\n",
    "from tensorflow.keras.datasets import imdb\n",
    "from tensorflow.keras.preprocessing import sequence\n",
    "from tensorflow.keras.models import load_model"
   ]
  },
  {
   "cell_type": "code",
   "execution_count": 13,
   "metadata": {},
   "outputs": [],
   "source": [
    "word_index = imdb.get_word_index()\n",
    "reverse_word_index = {value: key for key, value in word_index.items()}"
   ]
  },
  {
   "cell_type": "code",
   "execution_count": 14,
   "metadata": {},
   "outputs": [
    {
     "name": "stderr",
     "output_type": "stream",
     "text": [
      "WARNING:absl:Compiled the loaded model, but the compiled metrics have yet to be built. `model.compile_metrics` will be empty until you train or evaluate the model.\n"
     ]
    },
    {
     "data": {
      "text/html": [
       "<pre style=\"white-space:pre;overflow-x:auto;line-height:normal;font-family:Menlo,'DejaVu Sans Mono',consolas,'Courier New',monospace\"><span style=\"font-weight: bold\">Model: \"sequential_2\"</span>\n",
       "</pre>\n"
      ],
      "text/plain": [
       "\u001b[1mModel: \"sequential_2\"\u001b[0m\n"
      ]
     },
     "metadata": {},
     "output_type": "display_data"
    },
    {
     "data": {
      "text/html": [
       "<pre style=\"white-space:pre;overflow-x:auto;line-height:normal;font-family:Menlo,'DejaVu Sans Mono',consolas,'Courier New',monospace\">┏━━━━━━━━━━━━━━━━━━━━━━━━━━━━━━━━━┳━━━━━━━━━━━━━━━━━━━━━━━━┳━━━━━━━━━━━━━━━┓\n",
       "┃<span style=\"font-weight: bold\"> Layer (type)                    </span>┃<span style=\"font-weight: bold\"> Output Shape           </span>┃<span style=\"font-weight: bold\">       Param # </span>┃\n",
       "┡━━━━━━━━━━━━━━━━━━━━━━━━━━━━━━━━━╇━━━━━━━━━━━━━━━━━━━━━━━━╇━━━━━━━━━━━━━━━┩\n",
       "│ embedding_2 (<span style=\"color: #0087ff; text-decoration-color: #0087ff\">Embedding</span>)         │ (<span style=\"color: #00d7ff; text-decoration-color: #00d7ff\">None</span>, <span style=\"color: #00af00; text-decoration-color: #00af00\">500</span>, <span style=\"color: #00af00; text-decoration-color: #00af00\">128</span>)       │     <span style=\"color: #00af00; text-decoration-color: #00af00\">1,280,000</span> │\n",
       "├─────────────────────────────────┼────────────────────────┼───────────────┤\n",
       "│ simple_rnn_2 (<span style=\"color: #0087ff; text-decoration-color: #0087ff\">SimpleRNN</span>)        │ (<span style=\"color: #00d7ff; text-decoration-color: #00d7ff\">None</span>, <span style=\"color: #00af00; text-decoration-color: #00af00\">128</span>)            │        <span style=\"color: #00af00; text-decoration-color: #00af00\">32,896</span> │\n",
       "├─────────────────────────────────┼────────────────────────┼───────────────┤\n",
       "│ dense_2 (<span style=\"color: #0087ff; text-decoration-color: #0087ff\">Dense</span>)                 │ (<span style=\"color: #00d7ff; text-decoration-color: #00d7ff\">None</span>, <span style=\"color: #00af00; text-decoration-color: #00af00\">1</span>)              │           <span style=\"color: #00af00; text-decoration-color: #00af00\">129</span> │\n",
       "└─────────────────────────────────┴────────────────────────┴───────────────┘\n",
       "</pre>\n"
      ],
      "text/plain": [
       "┏━━━━━━━━━━━━━━━━━━━━━━━━━━━━━━━━━┳━━━━━━━━━━━━━━━━━━━━━━━━┳━━━━━━━━━━━━━━━┓\n",
       "┃\u001b[1m \u001b[0m\u001b[1mLayer (type)                   \u001b[0m\u001b[1m \u001b[0m┃\u001b[1m \u001b[0m\u001b[1mOutput Shape          \u001b[0m\u001b[1m \u001b[0m┃\u001b[1m \u001b[0m\u001b[1m      Param #\u001b[0m\u001b[1m \u001b[0m┃\n",
       "┡━━━━━━━━━━━━━━━━━━━━━━━━━━━━━━━━━╇━━━━━━━━━━━━━━━━━━━━━━━━╇━━━━━━━━━━━━━━━┩\n",
       "│ embedding_2 (\u001b[38;5;33mEmbedding\u001b[0m)         │ (\u001b[38;5;45mNone\u001b[0m, \u001b[38;5;34m500\u001b[0m, \u001b[38;5;34m128\u001b[0m)       │     \u001b[38;5;34m1,280,000\u001b[0m │\n",
       "├─────────────────────────────────┼────────────────────────┼───────────────┤\n",
       "│ simple_rnn_2 (\u001b[38;5;33mSimpleRNN\u001b[0m)        │ (\u001b[38;5;45mNone\u001b[0m, \u001b[38;5;34m128\u001b[0m)            │        \u001b[38;5;34m32,896\u001b[0m │\n",
       "├─────────────────────────────────┼────────────────────────┼───────────────┤\n",
       "│ dense_2 (\u001b[38;5;33mDense\u001b[0m)                 │ (\u001b[38;5;45mNone\u001b[0m, \u001b[38;5;34m1\u001b[0m)              │           \u001b[38;5;34m129\u001b[0m │\n",
       "└─────────────────────────────────┴────────────────────────┴───────────────┘\n"
      ]
     },
     "metadata": {},
     "output_type": "display_data"
    },
    {
     "data": {
      "text/html": [
       "<pre style=\"white-space:pre;overflow-x:auto;line-height:normal;font-family:Menlo,'DejaVu Sans Mono',consolas,'Courier New',monospace\"><span style=\"font-weight: bold\"> Total params: </span><span style=\"color: #00af00; text-decoration-color: #00af00\">1,313,027</span> (5.01 MB)\n",
       "</pre>\n"
      ],
      "text/plain": [
       "\u001b[1m Total params: \u001b[0m\u001b[38;5;34m1,313,027\u001b[0m (5.01 MB)\n"
      ]
     },
     "metadata": {},
     "output_type": "display_data"
    },
    {
     "data": {
      "text/html": [
       "<pre style=\"white-space:pre;overflow-x:auto;line-height:normal;font-family:Menlo,'DejaVu Sans Mono',consolas,'Courier New',monospace\"><span style=\"font-weight: bold\"> Trainable params: </span><span style=\"color: #00af00; text-decoration-color: #00af00\">1,313,025</span> (5.01 MB)\n",
       "</pre>\n"
      ],
      "text/plain": [
       "\u001b[1m Trainable params: \u001b[0m\u001b[38;5;34m1,313,025\u001b[0m (5.01 MB)\n"
      ]
     },
     "metadata": {},
     "output_type": "display_data"
    },
    {
     "data": {
      "text/html": [
       "<pre style=\"white-space:pre;overflow-x:auto;line-height:normal;font-family:Menlo,'DejaVu Sans Mono',consolas,'Courier New',monospace\"><span style=\"font-weight: bold\"> Non-trainable params: </span><span style=\"color: #00af00; text-decoration-color: #00af00\">0</span> (0.00 B)\n",
       "</pre>\n"
      ],
      "text/plain": [
       "\u001b[1m Non-trainable params: \u001b[0m\u001b[38;5;34m0\u001b[0m (0.00 B)\n"
      ]
     },
     "metadata": {},
     "output_type": "display_data"
    },
    {
     "data": {
      "text/html": [
       "<pre style=\"white-space:pre;overflow-x:auto;line-height:normal;font-family:Menlo,'DejaVu Sans Mono',consolas,'Courier New',monospace\"><span style=\"font-weight: bold\"> Optimizer params: </span><span style=\"color: #00af00; text-decoration-color: #00af00\">2</span> (12.00 B)\n",
       "</pre>\n"
      ],
      "text/plain": [
       "\u001b[1m Optimizer params: \u001b[0m\u001b[38;5;34m2\u001b[0m (12.00 B)\n"
      ]
     },
     "metadata": {},
     "output_type": "display_data"
    }
   ],
   "source": [
    "# Load pretrained model\n",
    "model = load_model('simple_rnn_model.h5')\n",
    "model.summary()"
   ]
  },
  {
   "cell_type": "code",
   "execution_count": 15,
   "metadata": {},
   "outputs": [
    {
     "data": {
      "text/plain": [
       "[array([[ 0.04828104,  0.15243323, -0.15668574, ..., -0.08022741,\n",
       "         -0.04087855,  0.03802785],\n",
       "        [ 0.00885931,  0.03780168, -0.00521782, ...,  0.00839162,\n",
       "          0.02664114,  0.07567883],\n",
       "        [-0.00394613, -0.03296654, -0.02213855, ..., -0.02184347,\n",
       "          0.03238708,  0.04354793],\n",
       "        ...,\n",
       "        [-0.04512437,  0.01237585,  0.05305454, ...,  0.01713181,\n",
       "         -0.06650979, -0.05799873],\n",
       "        [ 0.04986719,  0.04055267, -0.00775495, ...,  0.05880273,\n",
       "         -0.0291649 , -0.00155474],\n",
       "        [ 0.02101162,  0.03886939,  0.00601951, ..., -0.08731153,\n",
       "         -0.09952009, -0.08704555]], dtype=float32),\n",
       " array([[ 0.14047565,  0.12808803, -0.02621315, ...,  0.10904118,\n",
       "         -0.05777728,  0.14468041],\n",
       "        [-0.04969255,  0.03225467, -0.14832923, ..., -0.06296606,\n",
       "          0.01400342, -0.1476748 ],\n",
       "        [-0.06417899, -0.06825539,  0.0871724 , ..., -0.10284109,\n",
       "          0.13021971, -0.04162736],\n",
       "        ...,\n",
       "        [-0.14645098,  0.09616052, -0.02104484, ..., -0.01269078,\n",
       "          0.00909775, -0.02295836],\n",
       "        [-0.09635196, -0.02336533, -0.14789951, ...,  0.08770502,\n",
       "          0.0385072 , -0.07156723],\n",
       "        [ 0.11385985,  0.22966865,  0.02378441, ...,  0.12252821,\n",
       "          0.15214185, -0.01883419]], dtype=float32),\n",
       " array([[-0.0202259 , -0.08540402,  0.04788758, ..., -0.04836683,\n",
       "          0.04405153, -0.05395816],\n",
       "        [-0.07937516, -0.02828258, -0.04457478, ..., -0.00092586,\n",
       "         -0.04670638, -0.02350332],\n",
       "        [ 0.03669518,  0.0957697 , -0.04134205, ...,  0.08482604,\n",
       "         -0.02626187, -0.07150809],\n",
       "        ...,\n",
       "        [-0.0265571 , -0.09973618, -0.02288104, ...,  0.08721543,\n",
       "         -0.00525011, -0.05928786],\n",
       "        [-0.13268904,  0.00086636, -0.09611561, ..., -0.02094805,\n",
       "          0.02103797, -0.13830763],\n",
       "        [ 0.06399536, -0.0223656 ,  0.03078629, ...,  0.05479386,\n",
       "         -0.15106185,  0.14741893]], dtype=float32),\n",
       " array([-0.00029912, -0.005874  , -0.01389893, -0.00328429, -0.02396273,\n",
       "         0.02145652, -0.0225388 ,  0.03602422,  0.00910098,  0.00946087,\n",
       "         0.02283189, -0.00767617, -0.01137114,  0.01812738, -0.01621035,\n",
       "         0.03565514, -0.02509468, -0.00719797,  0.01695417,  0.02820237,\n",
       "        -0.00320408, -0.02639453, -0.01258981, -0.04232622,  0.01098107,\n",
       "        -0.01663542, -0.00830151,  0.00853486, -0.01740776, -0.01926407,\n",
       "         0.02620626,  0.00657348,  0.01103597, -0.02022593, -0.00343136,\n",
       "        -0.00472561, -0.02248646,  0.02733229, -0.03279215,  0.01089192,\n",
       "         0.02970099, -0.0038729 , -0.03312493, -0.01237773,  0.01864959,\n",
       "         0.0310642 , -0.00715991,  0.02390569, -0.00793014, -0.03098918,\n",
       "         0.00935729, -0.00666838, -0.00104143, -0.02930134, -0.01513023,\n",
       "        -0.01208249,  0.01473054,  0.02034444, -0.01126313,  0.01046454,\n",
       "        -0.03350352, -0.02944105, -0.00719813, -0.00050054, -0.02140461,\n",
       "         0.0003697 ,  0.02267938,  0.04519348, -0.01004862, -0.00068504,\n",
       "         0.00216062,  0.02092886,  0.00127909, -0.01242337,  0.02545466,\n",
       "        -0.04016211, -0.00840183, -0.02462557, -0.00088108,  0.01121387,\n",
       "        -0.03669841, -0.01226917,  0.00418908, -0.01401069, -0.02329303,\n",
       "        -0.0196914 , -0.04737908,  0.00243215,  0.02046121,  0.00872263,\n",
       "         0.02332418, -0.02190653,  0.00644132,  0.03664237, -0.01349012,\n",
       "        -0.01063433, -0.02812534,  0.01127897,  0.03160584,  0.00332783,\n",
       "         0.02379276, -0.00140805, -0.02724375, -0.00092985, -0.02961548,\n",
       "        -0.008162  , -0.02040883,  0.02199031, -0.02327703,  0.00020886,\n",
       "        -0.03216787, -0.0103917 , -0.02781677,  0.01009721, -0.02082754,\n",
       "        -0.00103181, -0.04326569,  0.00838362, -0.02132804,  0.03018489,\n",
       "        -0.01954425, -0.0248454 ,  0.02889481, -0.00620578,  0.02545774,\n",
       "        -0.03095254,  0.03239099,  0.00814542], dtype=float32),\n",
       " array([[-0.149695  ],\n",
       "        [-0.20879787],\n",
       "        [-0.1122012 ],\n",
       "        [-0.08550313],\n",
       "        [-0.01592867],\n",
       "        [-0.13482985],\n",
       "        [ 0.1065933 ],\n",
       "        [ 0.03615335],\n",
       "        [ 0.04761902],\n",
       "        [ 0.24010757],\n",
       "        [ 0.02892112],\n",
       "        [ 0.15927464],\n",
       "        [ 0.14091122],\n",
       "        [ 0.17301472],\n",
       "        [ 0.16398814],\n",
       "        [-0.02453108],\n",
       "        [-0.03332536],\n",
       "        [ 0.13983059],\n",
       "        [-0.01061189],\n",
       "        [ 0.03076435],\n",
       "        [ 0.00797298],\n",
       "        [ 0.21143875],\n",
       "        [ 0.12011611],\n",
       "        [ 0.09565841],\n",
       "        [ 0.13883886],\n",
       "        [-0.01353402],\n",
       "        [ 0.16185044],\n",
       "        [ 0.02588022],\n",
       "        [-0.01076575],\n",
       "        [-0.09877473],\n",
       "        [-0.08484134],\n",
       "        [ 0.20954955],\n",
       "        [-0.02736182],\n",
       "        [ 0.15673329],\n",
       "        [ 0.14981535],\n",
       "        [-0.14077058],\n",
       "        [ 0.00963031],\n",
       "        [ 0.24056834],\n",
       "        [-0.01732445],\n",
       "        [ 0.04842649],\n",
       "        [-0.24056146],\n",
       "        [-0.11580725],\n",
       "        [ 0.22668184],\n",
       "        [-0.03548276],\n",
       "        [ 0.17686568],\n",
       "        [ 0.14101686],\n",
       "        [-0.06757636],\n",
       "        [-0.05426189],\n",
       "        [ 0.07303094],\n",
       "        [-0.06931142],\n",
       "        [ 0.2109667 ],\n",
       "        [ 0.06854   ],\n",
       "        [ 0.19876072],\n",
       "        [-0.03124354],\n",
       "        [-0.07323667],\n",
       "        [ 0.20764692],\n",
       "        [ 0.0504762 ],\n",
       "        [ 0.01873061],\n",
       "        [ 0.0962572 ],\n",
       "        [ 0.18735594],\n",
       "        [-0.09367042],\n",
       "        [ 0.02506915],\n",
       "        [ 0.01740596],\n",
       "        [ 0.04621424],\n",
       "        [-0.0482826 ],\n",
       "        [ 0.13797233],\n",
       "        [ 0.20548898],\n",
       "        [ 0.00270118],\n",
       "        [ 0.05598233],\n",
       "        [-0.13721189],\n",
       "        [-0.00104738],\n",
       "        [ 0.10265996],\n",
       "        [ 0.11163719],\n",
       "        [ 0.06064922],\n",
       "        [-0.1188639 ],\n",
       "        [-0.05179199],\n",
       "        [-0.13271996],\n",
       "        [ 0.13073248],\n",
       "        [ 0.08709481],\n",
       "        [-0.04567898],\n",
       "        [ 0.09766372],\n",
       "        [ 0.09151325],\n",
       "        [-0.08549795],\n",
       "        [ 0.128879  ],\n",
       "        [ 0.19323489],\n",
       "        [ 0.01955192],\n",
       "        [ 0.35380682],\n",
       "        [-0.18922448],\n",
       "        [ 0.09028286],\n",
       "        [ 0.19733332],\n",
       "        [-0.03040482],\n",
       "        [ 0.23900819],\n",
       "        [ 0.0649789 ],\n",
       "        [-0.23071104],\n",
       "        [-0.20023467],\n",
       "        [-0.16069868],\n",
       "        [ 0.1876814 ],\n",
       "        [ 0.16074575],\n",
       "        [ 0.21582504],\n",
       "        [ 0.13859828],\n",
       "        [ 0.10934835],\n",
       "        [-0.12542082],\n",
       "        [ 0.12714936],\n",
       "        [ 0.0393319 ],\n",
       "        [ 0.08030643],\n",
       "        [ 0.20214915],\n",
       "        [-0.14973316],\n",
       "        [ 0.08071831],\n",
       "        [-0.16536497],\n",
       "        [-0.05367629],\n",
       "        [-0.09787896],\n",
       "        [-0.2125316 ],\n",
       "        [-0.17191471],\n",
       "        [ 0.18492132],\n",
       "        [-0.23733522],\n",
       "        [ 0.16558054],\n",
       "        [-0.09888362],\n",
       "        [ 0.13185772],\n",
       "        [ 0.18231474],\n",
       "        [-0.11144207],\n",
       "        [ 0.1542196 ],\n",
       "        [ 0.1650078 ],\n",
       "        [-0.18281624],\n",
       "        [ 0.09218743],\n",
       "        [-0.1594322 ],\n",
       "        [ 0.5194036 ],\n",
       "        [ 0.05103243],\n",
       "        [ 0.22057529]], dtype=float32),\n",
       " array([0.41946587], dtype=float32)]"
      ]
     },
     "execution_count": 15,
     "metadata": {},
     "output_type": "execute_result"
    }
   ],
   "source": [
    "model.get_weights()"
   ]
  },
  {
   "cell_type": "code",
   "execution_count": 16,
   "metadata": {},
   "outputs": [],
   "source": [
    "# Helper function to decode reviews\n",
    "def decode_review(review):\n",
    "    \"\"\"\n",
    "    This function takes an integer-encoded review and converts it back to readable text.\n",
    "    \"\"\"\n",
    "    return ' '.join([reverse_word_index.get(i - 3, '?') for i in review])\n",
    "\n",
    "# preprocess user input\n",
    "def preprocess_text(text):\n",
    "    \"\"\"\n",
    "    This function takes raw text input (e.g., \"The movie was great\") and preprocesses it into the same format as \n",
    "    X_train - a padded integer sequence—for use with your RNN model.\n",
    "    \"\"\"\n",
    "    words = text.lower().split()\n",
    "    encoded_review = [word_index.get(word,2) + 3 for word in words]\n",
    "    padded_review = sequence.pad_sequences([encoded_review], maxlen=500)\n",
    "    return padded_review"
   ]
  },
  {
   "cell_type": "code",
   "execution_count": 25,
   "metadata": {},
   "outputs": [],
   "source": [
    "# Prediction function\n",
    "def predict_sentiment(review):\n",
    "    \"\"\"\n",
    "    This function takes a review as input and returns a sentiment prediction (positive or negative).\n",
    "    \"\"\"\n",
    "    preprocessed_review = preprocess_text(review)\n",
    "    prediction = model.predict(preprocessed_review)\n",
    "    sentiment = \"Postive\" if prediction > 0.5 else \"Negative\"\n",
    "    return sentiment, prediction[0][0]"
   ]
  },
  {
   "cell_type": "code",
   "execution_count": 26,
   "metadata": {},
   "outputs": [
    {
     "name": "stdout",
     "output_type": "stream",
     "text": [
      "\u001b[1m1/1\u001b[0m \u001b[32m━━━━━━━━━━━━━━━━━━━━\u001b[0m\u001b[37m\u001b[0m \u001b[1m0s\u001b[0m 28ms/step\n",
      "Review: This mnovie is fantastic! The acting was great and the plot was thrilling.\n",
      "Sentiment: Negative\n",
      "Score: 0.4775124192237854\n"
     ]
    }
   ],
   "source": [
    "# Example review for prediction\n",
    "example_review = \"This mnovie is fantastic! The acting was great and the plot was thrilling.\"\n",
    "sentiment, score = predict_sentiment(example_review)\n",
    "print(f\"Review: {example_review}\")\n",
    "print(f\"Sentiment: {sentiment}\")\n",
    "print(f\"Score: {score}\")"
   ]
  },
  {
   "cell_type": "code",
   "execution_count": null,
   "metadata": {},
   "outputs": [],
   "source": []
  }
 ],
 "metadata": {
  "kernelspec": {
   "display_name": "Python 3",
   "language": "python",
   "name": "python3"
  },
  "language_info": {
   "codemirror_mode": {
    "name": "ipython",
    "version": 3
   },
   "file_extension": ".py",
   "mimetype": "text/x-python",
   "name": "python",
   "nbconvert_exporter": "python",
   "pygments_lexer": "ipython3",
   "version": "3.12.0"
  }
 },
 "nbformat": 4,
 "nbformat_minor": 2
}
